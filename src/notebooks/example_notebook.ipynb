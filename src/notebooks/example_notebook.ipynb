{
 "cells": [
  {
   "cell_type": "markdown",
   "id": "a614a0d9-50be-4975-bffb-a67281f665a4",
   "metadata": {},
   "source": [
    "# An example notebook\n",
    "\n",
    "Sharing how a notebook can work in combination with a Python package.\n",
    "\n",
    "Notes:\n",
    "- [`jupytext`](https://github.com/mwouts/jupytext) helps us automatically\n",
    "export the notebook through `pyproject.toml` configuration.\n",
    "This makes it easier to provide line-level comments within pull\n",
    "request reviews or to use the Python file independent of the notebook.\n",
    "- [`jupyterlab_code_formatter`](https://github.com/jupyterlab-contrib/jupyterlab_code_formatter)\n",
    "helps automatically format the notebook on-the-fly using black, isort, and\n",
    "more so that our notebook has a consistent and readable format\n",
    "(including as we develop it!). This extension is available through the\n",
    "browser-based Juypyter interface\n",
    "as a circular button near the top of each notebook.\n",
    "Clicking it applies the formatting to the notebook."
   ]
  },
  {
   "cell_type": "code",
   "execution_count": 1,
   "id": "e6794389-4a05-470b-9434-a4fa2191a40b",
   "metadata": {},
   "outputs": [],
   "source": [
    "# show an import from a local package\n",
    "from example_project import show_message"
   ]
  },
  {
   "cell_type": "code",
   "execution_count": 4,
   "id": "9ea05787-98f5-4887-8e90-7506b1cbcc64",
   "metadata": {},
   "outputs": [
    {
     "data": {
      "text/html": [
       "<div>\n",
       "<style scoped>\n",
       "    .dataframe tbody tr th:only-of-type {\n",
       "        vertical-align: middle;\n",
       "    }\n",
       "\n",
       "    .dataframe tbody tr th {\n",
       "        vertical-align: top;\n",
       "    }\n",
       "\n",
       "    .dataframe thead th {\n",
       "        text-align: right;\n",
       "    }\n",
       "</style>\n",
       "<table border=\"1\" class=\"dataframe\">\n",
       "  <thead>\n",
       "    <tr style=\"text-align: right;\">\n",
       "      <th></th>\n",
       "      <th>message</th>\n",
       "    </tr>\n",
       "  </thead>\n",
       "  <tbody>\n",
       "    <tr>\n",
       "      <th>0</th>\n",
       "      <td>Hello, notebook!</td>\n",
       "    </tr>\n",
       "  </tbody>\n",
       "</table>\n",
       "</div>"
      ],
      "text/plain": [
       "            message\n",
       "0  Hello, notebook!"
      ]
     },
     "execution_count": 4,
     "metadata": {},
     "output_type": "execute_result"
    }
   ],
   "source": [
    "# use the function within the notebook to show it works\n",
    "show_message(\"Hello, notebook!\")"
   ]
  }
 ],
 "metadata": {
  "kernelspec": {
   "display_name": "Python 3 (ipykernel)",
   "language": "python",
   "name": "python3"
  },
  "language_info": {
   "codemirror_mode": {
    "name": "ipython",
    "version": 3
   },
   "file_extension": ".py",
   "mimetype": "text/x-python",
   "name": "python",
   "nbconvert_exporter": "python",
   "pygments_lexer": "ipython3",
   "version": "3.11.11"
  }
 },
 "nbformat": 4,
 "nbformat_minor": 5
}
